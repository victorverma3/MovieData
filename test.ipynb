{
 "cells": [
  {
   "cell_type": "code",
   "execution_count": 5,
   "metadata": {},
   "outputs": [],
   "source": [
    "# Imports\n",
    "import aiohttp\n",
    "import database\n",
    "from moviedata import movie_crawl\n",
    "import pandas as pd\n",
    "from movierec import train_model"
   ]
  },
  {
   "cell_type": "code",
   "execution_count": 6,
   "metadata": {},
   "outputs": [
    {
     "name": "stdout",
     "output_type": "stream",
     "text": [
      "Leave the World Behind\n",
      "Society of the Snow\n",
      "Priscilla\n",
      "Poor Things\n",
      "All of Us Strangers\n",
      "Saltburn\n",
      "Oppenheimer\n",
      "Killers of the Flower Moon\n",
      "Bottoms\n",
      "Theater Camp\n",
      "Dune\n",
      "Knives Out\n",
      "Midsommar\n",
      "Parasite\n",
      "Hereditary\n",
      "Lady Bird\n",
      "The Florida Project\n",
      "Get Out\n",
      "Call Me by Your Name\n",
      "The Age of Adaline\n",
      "Gone Girl\n",
      "The Grand Budapest Hotel\n",
      "Black Swan\n",
      "Fantastic Mr. Fox\n",
      "(500) Days of Summer\n",
      "Pride & Prejudice\n",
      "The Notebook\n",
      "The Virgin Suicides\n",
      "Priscilla is not rated by pbreck\n",
      "Lady Bird is not rated by pbreck\n",
      "The Virgin Suicides is not rated by pbreck\n",
      "Leave the World Behind is not rated by pbreck\n",
      "Bottoms is not rated by pbreck\n",
      "Parasite is not rated by pbreck\n",
      "Fantastic Mr. Fox is not rated by pbreck\n",
      "Pride & Prejudice is not rated by pbreck\n",
      "Gone Girl is not rated by pbreck\n",
      "Hereditary is not rated by pbreck\n",
      "Call Me by Your Name is not rated by pbreck\n",
      "Knives Out is not rated by pbreck\n",
      "The Grand Budapest Hotel is not rated by pbreck\n",
      "Black Swan is not rated by pbreck\n",
      "Get Out is not rated by pbreck\n",
      "Midsommar is not rated by pbreck\n",
      "Theater Camp is not rated by pbreck\n",
      "Saltburn is not rated by pbreck\n",
      "The Notebook is not rated by pbreck\n",
      "Dune is not rated by pbreck\n",
      "\n",
      "updated user data in database\n",
      "\n",
      "Scraped pbreck's movie data in 6.0155732320126845 seconds\n",
      "\n",
      "The following movies were not rated by pbreck:\n",
      "['Black Swan', 'Bottoms', 'Call Me by Your Name', 'Dune', 'Fantastic Mr. Fox', 'Get Out', 'Gone Girl', 'Hereditary', 'Knives Out', 'Lady Bird', 'Leave the World Behind', 'Midsommar', 'Parasite', 'Pride & Prejudice', 'Priscilla', 'Saltburn', 'The Grand Budapest Hotel', 'The Notebook', 'The Virgin Suicides', 'Theater Camp']\n",
      "\n",
      "The following movies were missing data on Letterboxd:\n",
      "[]\n",
      "\n"
     ]
    }
   ],
   "source": [
    "# Crawl Letterboxd\n",
    "user = \"pbreck\"\n",
    "async with aiohttp.ClientSession() as session:\n",
    "    user_df = await movie_crawl(user, session)"
   ]
  },
  {
   "cell_type": "code",
   "execution_count": 7,
   "metadata": {},
   "outputs": [
    {
     "name": "stdout",
     "output_type": "stream",
     "text": [
      "             User  Cross-Val MSE  Test MSE   Val MSE\n",
      "0         chels33       0.889886  1.486726  0.958969\n",
      "1  harryzielinski       0.833964  1.230872  0.594502\n",
      "2         hgrosse       0.673091  0.601062  0.581107\n",
      "3          jconn8       0.894971  0.884947  0.565714\n",
      "4     juliamassey       0.679098  0.534131  0.525879\n",
      "5      obiravioli       0.610644  0.145313  1.394357\n",
      "6          pbreck       2.620787  4.483600  0.249592\n",
      "7      rohankumar       0.489384  0.632942  0.649160\n",
      "8        tmarro13       0.276338  0.186572  0.268750\n",
      "9     victorverma       0.370209  0.246772  0.242329\n"
     ]
    }
   ],
   "source": [
    "# Model Evaluation\n",
    "def single_user_evaluation(user):\n",
    "    user = \"victorverma\"\n",
    "    user_df = database.get_user_data(user)\n",
    "    train_model(user_df, verbose=True)\n",
    "\n",
    "\n",
    "def all_user_evaluation():\n",
    "\n",
    "    users = database.get_users_in_db()\n",
    "    cv_mses = []\n",
    "    test_mses = []\n",
    "    val_mses = []\n",
    "    for user in users:\n",
    "        user_df = database.get_user_data(user)\n",
    "        _, mse_cv, mse_test, mse_val = train_model(user_df)\n",
    "        cv_mses.append(mse_cv)\n",
    "        test_mses.append(mse_test)\n",
    "        val_mses.append(mse_val)\n",
    "\n",
    "    accuracy_df = pd.DataFrame(\n",
    "        {\n",
    "            \"User\": users,\n",
    "            \"Cross-Val MSE\": cv_mses,\n",
    "            \"Test MSE\": test_mses,\n",
    "            \"Val MSE\": val_mses,\n",
    "        }\n",
    "    )\n",
    "\n",
    "    return accuracy_df\n",
    "\n",
    "\n",
    "# single_user_evaluation(\"victorverma\")\n",
    "print(all_user_evaluation())"
   ]
  }
 ],
 "metadata": {
  "kernelspec": {
   "display_name": "Python 3",
   "language": "python",
   "name": "python3"
  },
  "language_info": {
   "codemirror_mode": {
    "name": "ipython",
    "version": 3
   },
   "file_extension": ".py",
   "mimetype": "text/x-python",
   "name": "python",
   "nbconvert_exporter": "python",
   "pygments_lexer": "ipython3",
   "version": "3.11.3"
  }
 },
 "nbformat": 4,
 "nbformat_minor": 2
}
